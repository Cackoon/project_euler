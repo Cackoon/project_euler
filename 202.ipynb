{
 "cells": [
  {
   "cell_type": "code",
   "execution_count": 10,
   "metadata": {},
   "outputs": [],
   "source": [
    "from functools import reduce\n",
    "from operator import itemgetter, mul\n",
    "from itertools import groupby\n",
    "from sympy.ntheory import factorint, totient\n",
    "from math import gcd\n",
    "\n",
    "from itertools import chain, combinations\n",
    "\n",
    "def product(S):\n",
    "    return reduce(mul, S)"
   ]
  },
  {
   "cell_type": "code",
   "execution_count": 11,
   "metadata": {},
   "outputs": [],
   "source": [
    "def coprime_and_divisible_by_3(n):\n",
    "    if n%3 == 0:\n",
    "        return 0\n",
    "    else:\n",
    "        prime_factors = factorint(n)\n",
    "        primes = list(prime_factors.keys())\n",
    "        prime_combinations = chain(\n",
    "            (r, s) for r in range(1, len(primes)+1) for s in combinations(primes, r)\n",
    "        )\n",
    "\n",
    "        num_multiples_of_3 = (\n",
    "            (r, n//(3*product(sub_primes)))\n",
    "            for r, sub_primes in prime_combinations\n",
    "        )\n",
    "\n",
    "        num_not_coprime_and_divisible_by_3 = sum(\n",
    "            ((-1)**((r+1)%2))*size_subset\n",
    "            for r, size_subset in num_multiples_of_3\n",
    "        )\n",
    "\n",
    "        return (n//3) - num_not_coprime_and_divisible_by_3"
   ]
  },
  {
   "cell_type": "code",
   "execution_count": 12,
   "metadata": {},
   "outputs": [],
   "source": [
    "def coprime_and_divisible_by_3_test(n):\n",
    "    return sum((gcd(n, i) == 1) and (i%3 ==0) for i in range(1, n+1))"
   ]
  },
  {
   "cell_type": "code",
   "execution_count": 13,
   "metadata": {},
   "outputs": [
    {
     "data": {
      "text/plain": [
       "True"
      ]
     },
     "execution_count": 13,
     "metadata": {},
     "output_type": "execute_result"
    }
   ],
   "source": [
    "all(coprime_and_divisible_by_3(n) == coprime_and_divisible_by_3_test(n) for n in range(1, 1001))"
   ]
  },
  {
   "cell_type": "code",
   "execution_count": 32,
   "metadata": {},
   "outputs": [],
   "source": [
    "def f(n):\n",
    "    if n%3 == 0:\n",
    "        return coprime_and_divisible_by_3(n)\n",
    "    else:\n",
    "        return (totient(n) - 2*coprime_and_divisible_by_3(n))"
   ]
  },
  {
   "cell_type": "code",
   "execution_count": 40,
   "metadata": {},
   "outputs": [],
   "source": [
    "def f_test(n):\n",
    "    return sum((gcd(n, i) == 1) and ((i+n)%3 ==0) for i in range(1, n+1))"
   ]
  },
  {
   "cell_type": "code",
   "execution_count": 33,
   "metadata": {},
   "outputs": [],
   "source": [
    "import pandas as pd"
   ]
  },
  {
   "cell_type": "code",
   "execution_count": 50,
   "metadata": {},
   "outputs": [],
   "source": [
    "data = [\n",
    "    (n, 2*n - 3, totient(n), coprime_and_divisible_by_3_test(n), f(n),  f_test(n))\n",
    "    for n in range(2, 31)\n",
    "]\n",
    "\n",
    "df = pd.DataFrame(data, columns=['n', 'num_reflections', 'euler totient', 'coprime and divisible by 3', 'f', 'f_test'])"
   ]
  },
  {
   "cell_type": "code",
   "execution_count": 51,
   "metadata": {},
   "outputs": [
    {
     "data": {
      "text/plain": [
       "True"
      ]
     },
     "execution_count": 51,
     "metadata": {},
     "output_type": "execute_result"
    }
   ],
   "source": [
    "all(f(n) == f_test(n) for n in range(2, 1001))"
   ]
  },
  {
   "cell_type": "code",
   "execution_count": 52,
   "metadata": {},
   "outputs": [
    {
     "data": {
      "text/html": [
       "<div>\n",
       "<style scoped>\n",
       "    .dataframe tbody tr th:only-of-type {\n",
       "        vertical-align: middle;\n",
       "    }\n",
       "\n",
       "    .dataframe tbody tr th {\n",
       "        vertical-align: top;\n",
       "    }\n",
       "\n",
       "    .dataframe thead th {\n",
       "        text-align: right;\n",
       "    }\n",
       "</style>\n",
       "<table border=\"1\" class=\"dataframe\">\n",
       "  <thead>\n",
       "    <tr style=\"text-align: right;\">\n",
       "      <th></th>\n",
       "      <th>n</th>\n",
       "      <th>num_reflections</th>\n",
       "      <th>euler totient</th>\n",
       "      <th>coprime and divisible by 3</th>\n",
       "      <th>f</th>\n",
       "      <th>f_test</th>\n",
       "    </tr>\n",
       "  </thead>\n",
       "  <tbody>\n",
       "    <tr>\n",
       "      <th>0</th>\n",
       "      <td>2</td>\n",
       "      <td>1</td>\n",
       "      <td>1</td>\n",
       "      <td>0</td>\n",
       "      <td>1</td>\n",
       "      <td>1</td>\n",
       "    </tr>\n",
       "    <tr>\n",
       "      <th>1</th>\n",
       "      <td>3</td>\n",
       "      <td>3</td>\n",
       "      <td>2</td>\n",
       "      <td>0</td>\n",
       "      <td>0</td>\n",
       "      <td>0</td>\n",
       "    </tr>\n",
       "    <tr>\n",
       "      <th>2</th>\n",
       "      <td>4</td>\n",
       "      <td>5</td>\n",
       "      <td>2</td>\n",
       "      <td>1</td>\n",
       "      <td>0</td>\n",
       "      <td>0</td>\n",
       "    </tr>\n",
       "    <tr>\n",
       "      <th>3</th>\n",
       "      <td>5</td>\n",
       "      <td>7</td>\n",
       "      <td>4</td>\n",
       "      <td>1</td>\n",
       "      <td>2</td>\n",
       "      <td>2</td>\n",
       "    </tr>\n",
       "    <tr>\n",
       "      <th>4</th>\n",
       "      <td>6</td>\n",
       "      <td>9</td>\n",
       "      <td>2</td>\n",
       "      <td>0</td>\n",
       "      <td>0</td>\n",
       "      <td>0</td>\n",
       "    </tr>\n",
       "    <tr>\n",
       "      <th>5</th>\n",
       "      <td>7</td>\n",
       "      <td>11</td>\n",
       "      <td>6</td>\n",
       "      <td>2</td>\n",
       "      <td>2</td>\n",
       "      <td>2</td>\n",
       "    </tr>\n",
       "    <tr>\n",
       "      <th>6</th>\n",
       "      <td>8</td>\n",
       "      <td>13</td>\n",
       "      <td>4</td>\n",
       "      <td>1</td>\n",
       "      <td>2</td>\n",
       "      <td>2</td>\n",
       "    </tr>\n",
       "    <tr>\n",
       "      <th>7</th>\n",
       "      <td>9</td>\n",
       "      <td>15</td>\n",
       "      <td>6</td>\n",
       "      <td>0</td>\n",
       "      <td>0</td>\n",
       "      <td>0</td>\n",
       "    </tr>\n",
       "    <tr>\n",
       "      <th>8</th>\n",
       "      <td>10</td>\n",
       "      <td>17</td>\n",
       "      <td>4</td>\n",
       "      <td>2</td>\n",
       "      <td>0</td>\n",
       "      <td>0</td>\n",
       "    </tr>\n",
       "    <tr>\n",
       "      <th>9</th>\n",
       "      <td>11</td>\n",
       "      <td>19</td>\n",
       "      <td>10</td>\n",
       "      <td>3</td>\n",
       "      <td>4</td>\n",
       "      <td>4</td>\n",
       "    </tr>\n",
       "    <tr>\n",
       "      <th>10</th>\n",
       "      <td>12</td>\n",
       "      <td>21</td>\n",
       "      <td>4</td>\n",
       "      <td>0</td>\n",
       "      <td>0</td>\n",
       "      <td>0</td>\n",
       "    </tr>\n",
       "    <tr>\n",
       "      <th>11</th>\n",
       "      <td>13</td>\n",
       "      <td>23</td>\n",
       "      <td>12</td>\n",
       "      <td>4</td>\n",
       "      <td>4</td>\n",
       "      <td>4</td>\n",
       "    </tr>\n",
       "    <tr>\n",
       "      <th>12</th>\n",
       "      <td>14</td>\n",
       "      <td>25</td>\n",
       "      <td>6</td>\n",
       "      <td>2</td>\n",
       "      <td>2</td>\n",
       "      <td>2</td>\n",
       "    </tr>\n",
       "    <tr>\n",
       "      <th>13</th>\n",
       "      <td>15</td>\n",
       "      <td>27</td>\n",
       "      <td>8</td>\n",
       "      <td>0</td>\n",
       "      <td>0</td>\n",
       "      <td>0</td>\n",
       "    </tr>\n",
       "    <tr>\n",
       "      <th>14</th>\n",
       "      <td>16</td>\n",
       "      <td>29</td>\n",
       "      <td>8</td>\n",
       "      <td>3</td>\n",
       "      <td>2</td>\n",
       "      <td>2</td>\n",
       "    </tr>\n",
       "    <tr>\n",
       "      <th>15</th>\n",
       "      <td>17</td>\n",
       "      <td>31</td>\n",
       "      <td>16</td>\n",
       "      <td>5</td>\n",
       "      <td>6</td>\n",
       "      <td>6</td>\n",
       "    </tr>\n",
       "    <tr>\n",
       "      <th>16</th>\n",
       "      <td>18</td>\n",
       "      <td>33</td>\n",
       "      <td>6</td>\n",
       "      <td>0</td>\n",
       "      <td>0</td>\n",
       "      <td>0</td>\n",
       "    </tr>\n",
       "    <tr>\n",
       "      <th>17</th>\n",
       "      <td>19</td>\n",
       "      <td>35</td>\n",
       "      <td>18</td>\n",
       "      <td>6</td>\n",
       "      <td>6</td>\n",
       "      <td>6</td>\n",
       "    </tr>\n",
       "    <tr>\n",
       "      <th>18</th>\n",
       "      <td>20</td>\n",
       "      <td>37</td>\n",
       "      <td>8</td>\n",
       "      <td>2</td>\n",
       "      <td>4</td>\n",
       "      <td>4</td>\n",
       "    </tr>\n",
       "    <tr>\n",
       "      <th>19</th>\n",
       "      <td>21</td>\n",
       "      <td>39</td>\n",
       "      <td>12</td>\n",
       "      <td>0</td>\n",
       "      <td>0</td>\n",
       "      <td>0</td>\n",
       "    </tr>\n",
       "    <tr>\n",
       "      <th>20</th>\n",
       "      <td>22</td>\n",
       "      <td>41</td>\n",
       "      <td>10</td>\n",
       "      <td>4</td>\n",
       "      <td>2</td>\n",
       "      <td>2</td>\n",
       "    </tr>\n",
       "    <tr>\n",
       "      <th>21</th>\n",
       "      <td>23</td>\n",
       "      <td>43</td>\n",
       "      <td>22</td>\n",
       "      <td>7</td>\n",
       "      <td>8</td>\n",
       "      <td>8</td>\n",
       "    </tr>\n",
       "    <tr>\n",
       "      <th>22</th>\n",
       "      <td>24</td>\n",
       "      <td>45</td>\n",
       "      <td>8</td>\n",
       "      <td>0</td>\n",
       "      <td>0</td>\n",
       "      <td>0</td>\n",
       "    </tr>\n",
       "    <tr>\n",
       "      <th>23</th>\n",
       "      <td>25</td>\n",
       "      <td>47</td>\n",
       "      <td>20</td>\n",
       "      <td>7</td>\n",
       "      <td>6</td>\n",
       "      <td>6</td>\n",
       "    </tr>\n",
       "    <tr>\n",
       "      <th>24</th>\n",
       "      <td>26</td>\n",
       "      <td>49</td>\n",
       "      <td>12</td>\n",
       "      <td>4</td>\n",
       "      <td>4</td>\n",
       "      <td>4</td>\n",
       "    </tr>\n",
       "    <tr>\n",
       "      <th>25</th>\n",
       "      <td>27</td>\n",
       "      <td>51</td>\n",
       "      <td>18</td>\n",
       "      <td>0</td>\n",
       "      <td>0</td>\n",
       "      <td>0</td>\n",
       "    </tr>\n",
       "    <tr>\n",
       "      <th>26</th>\n",
       "      <td>28</td>\n",
       "      <td>53</td>\n",
       "      <td>12</td>\n",
       "      <td>4</td>\n",
       "      <td>4</td>\n",
       "      <td>4</td>\n",
       "    </tr>\n",
       "    <tr>\n",
       "      <th>27</th>\n",
       "      <td>29</td>\n",
       "      <td>55</td>\n",
       "      <td>28</td>\n",
       "      <td>9</td>\n",
       "      <td>10</td>\n",
       "      <td>10</td>\n",
       "    </tr>\n",
       "    <tr>\n",
       "      <th>28</th>\n",
       "      <td>30</td>\n",
       "      <td>57</td>\n",
       "      <td>8</td>\n",
       "      <td>0</td>\n",
       "      <td>0</td>\n",
       "      <td>0</td>\n",
       "    </tr>\n",
       "  </tbody>\n",
       "</table>\n",
       "</div>"
      ],
      "text/plain": [
       "     n  num_reflections  euler totient  coprime and divisible by 3   f  f_test\n",
       "0    2                1              1                           0   1       1\n",
       "1    3                3              2                           0   0       0\n",
       "2    4                5              2                           1   0       0\n",
       "3    5                7              4                           1   2       2\n",
       "4    6                9              2                           0   0       0\n",
       "5    7               11              6                           2   2       2\n",
       "6    8               13              4                           1   2       2\n",
       "7    9               15              6                           0   0       0\n",
       "8   10               17              4                           2   0       0\n",
       "9   11               19             10                           3   4       4\n",
       "10  12               21              4                           0   0       0\n",
       "11  13               23             12                           4   4       4\n",
       "12  14               25              6                           2   2       2\n",
       "13  15               27              8                           0   0       0\n",
       "14  16               29              8                           3   2       2\n",
       "15  17               31             16                           5   6       6\n",
       "16  18               33              6                           0   0       0\n",
       "17  19               35             18                           6   6       6\n",
       "18  20               37              8                           2   4       4\n",
       "19  21               39             12                           0   0       0\n",
       "20  22               41             10                           4   2       2\n",
       "21  23               43             22                           7   8       8\n",
       "22  24               45              8                           0   0       0\n",
       "23  25               47             20                           7   6       6\n",
       "24  26               49             12                           4   4       4\n",
       "25  27               51             18                           0   0       0\n",
       "26  28               53             12                           4   4       4\n",
       "27  29               55             28                           9  10      10\n",
       "28  30               57              8                           0   0       0"
      ]
     },
     "execution_count": 52,
     "metadata": {},
     "output_type": "execute_result"
    }
   ],
   "source": [
    "df"
   ]
  },
  {
   "cell_type": "code",
   "execution_count": 27,
   "metadata": {},
   "outputs": [
    {
     "data": {
      "text/plain": [
       "[0.5, 0.5, 0, 0.5, 1.5, 0, 2.0, 1.5, 0]"
      ]
     },
     "execution_count": 27,
     "metadata": {},
     "output_type": "execute_result"
    }
   ],
   "source": [
    "[f(n) for n in range(1, 10)]"
   ]
  },
  {
   "cell_type": "code",
   "execution_count": 55,
   "metadata": {},
   "outputs": [],
   "source": [
    "def num_rays(n):\n",
    "    if n%2 == 0:\n",
    "        return 0\n",
    "    else:\n",
    "        return f((n+3)//2)"
   ]
  },
  {
   "cell_type": "code",
   "execution_count": 56,
   "metadata": {},
   "outputs": [
    {
     "data": {
      "text/plain": [
       "[1, 0, 0, 0, 0, 0, 2, 0, 0]"
      ]
     },
     "execution_count": 56,
     "metadata": {},
     "output_type": "execute_result"
    }
   ],
   "source": [
    "[num_rays(n) for n in range(1, 10)]"
   ]
  },
  {
   "cell_type": "code",
   "execution_count": 57,
   "metadata": {},
   "outputs": [
    {
     "data": {
      "text/plain": [
       "[0,\n",
       " 159412,\n",
       " 0,\n",
       " 0,\n",
       " 0,\n",
       " 160020,\n",
       " 0,\n",
       " 66668,\n",
       " 0,\n",
       " 0,\n",
       " 0,\n",
       " 80840,\n",
       " 0,\n",
       " 142856,\n",
       " 0,\n",
       " 0,\n",
       " 0,\n",
       " 121200,\n",
       " 0,\n",
       " 76920]"
      ]
     },
     "execution_count": 57,
     "metadata": {},
     "output_type": "execute_result"
    }
   ],
   "source": [
    "[num_rays(n) for n in range(1000000-10, 1000000+10)]"
   ]
  },
  {
   "cell_type": "code",
   "execution_count": 61,
   "metadata": {},
   "outputs": [
    {
     "data": {
      "text/plain": [
       "80840"
      ]
     },
     "execution_count": 61,
     "metadata": {},
     "output_type": "execute_result"
    }
   ],
   "source": [
    "num_rays(1000001)"
   ]
  },
  {
   "cell_type": "code",
   "execution_count": 60,
   "metadata": {},
   "outputs": [
    {
     "data": {
      "text/plain": [
       "1209002624"
      ]
     },
     "execution_count": 60,
     "metadata": {},
     "output_type": "execute_result"
    }
   ],
   "source": [
    "num_rays(12017639147)"
   ]
  },
  {
   "cell_type": "code",
   "execution_count": 55,
   "metadata": {},
   "outputs": [
    {
     "data": {
      "text/plain": [
       "[0, 0, 0, 0, 1, 1, 0, 2, 1, 0, 2, 3, 0, 4, 2, 0, 3, 5, 0, 6]"
      ]
     },
     "execution_count": 55,
     "metadata": {},
     "output_type": "execute_result"
    }
   ],
   "source": [
    "[\n",
    "    coprime_and_divisible_by_3(n)\n",
    "    for n in range(20)\n",
    "]"
   ]
  },
  {
   "cell_type": "markdown",
   "metadata": {},
   "source": [
    "# Old"
   ]
  },
  {
   "cell_type": "code",
   "execution_count": 1,
   "metadata": {},
   "outputs": [],
   "source": [
    "def euler_totient_prime_mod_3(p, a):\n",
    "    if (p % 3) == 1:\n",
    "        res = p**(a-1)*(p - 1)//3\n",
    "        return (res, res, res)\n",
    "    elif (p % 3) == 2:\n",
    "        x = p**(a-1)*(p - 1)\n",
    "        if a % 2 == 0:\n",
    "            return ((x + 1)//3, (x + 1)//3, (x-2)//3)\n",
    "        else:\n",
    "            return ((x-1)//3, (x + 2)//3, (x-1)//3)\n",
    "    else:\n",
    "        raise ValueError(f\"p={p} divisble by 3\")"
   ]
  },
  {
   "cell_type": "code",
   "execution_count": 2,
   "metadata": {},
   "outputs": [
    {
     "data": {
      "text/plain": [
       "(7, 7, 6)"
      ]
     },
     "execution_count": 2,
     "metadata": {},
     "output_type": "execute_result"
    }
   ],
   "source": [
    "euler_totient_prime_mod_3(5, 2)"
   ]
  },
  {
   "cell_type": "code",
   "execution_count": 21,
   "metadata": {},
   "outputs": [],
   "source": [
    "def combine_coprime_mod_3_solutions(p1, p2):\n",
    "    prime1, c1 = p1\n",
    "    prime2, c2 = p2\n",
    "    r1 = prime1%3\n",
    "    r2 = prime2%3\n",
    "    new_cs = (\n",
    "        (x1*x2, (r1*i1+r2*i2)%3)\n",
    "        for i1, x1 in enumerate(c1)\n",
    "        for i2, x2 in enumerate(c2)\n",
    "    )\n",
    "    new_cs = sorted(new_cs, key=itemgetter(1))\n",
    "    new_cs = groupby(new_cs, key=itemgetter(1))\n",
    "    new_cs = [\n",
    "        sum(x for x, _ in l)\n",
    "        for _, l in new_cs\n",
    "    ]\n",
    "    \n",
    "    new_r = (r1*r2)%3\n",
    "    \n",
    "    return (new_r, new_cs)"
   ]
  },
  {
   "cell_type": "code",
   "execution_count": 23,
   "metadata": {},
   "outputs": [],
   "source": [
    "def euler_totient_mod_3(n):\n",
    "    prime_factors = factorint(n)\n",
    "    prime_factors = sorted(list(prime_factors.items()), key=lambda x: x[0])\n",
    "    print(prime_factors)\n",
    "    prime_totients = (\n",
    "        (((p%3)**a)%3, euler_totient_prime_mod_3(p, a)) for p, a in prime_factors\n",
    "    )\n",
    "    \n",
    "    final_totients = reduce(combine_coprime_mod_3_solutions, prime_totients)\n",
    "    \n",
    "    return final_totients"
   ]
  },
  {
   "cell_type": "code",
   "execution_count": 26,
   "metadata": {},
   "outputs": [
    {
     "name": "stdout",
     "output_type": "stream",
     "text": [
      "[(2, 1), (5, 1)]\n"
     ]
    },
    {
     "data": {
      "text/plain": [
       "(1, [1, 2, 1])"
      ]
     },
     "execution_count": 26,
     "metadata": {},
     "output_type": "execute_result"
    }
   ],
   "source": [
    "euler_totient_mod_3(10)"
   ]
  }
 ],
 "metadata": {
  "kernelspec": {
   "display_name": "Python 3",
   "language": "python",
   "name": "python3"
  },
  "language_info": {
   "codemirror_mode": {
    "name": "ipython",
    "version": 3
   },
   "file_extension": ".py",
   "mimetype": "text/x-python",
   "name": "python",
   "nbconvert_exporter": "python",
   "pygments_lexer": "ipython3",
   "version": "3.8.2"
  }
 },
 "nbformat": 4,
 "nbformat_minor": 4
}
